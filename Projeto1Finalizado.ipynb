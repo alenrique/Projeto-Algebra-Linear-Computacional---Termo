{
  "cells": [
    {
      "cell_type": "markdown",
      "metadata": {
        "id": "yAnmwBGTJdJu"
      },
      "source": [
        "# ![image.png](data:image/png;base64,iVBORw0KGgoAAAANSUhEUgAAA5AAAABnCAYAAAB2M60YAAAABHNCSVQICAgIfAhkiAAAIABJREFUeF7tnQe4NEWV9xsQEBbJC0teghJ3ySwCIsIiSTIKS5IVkJwlR0mSkyCyIC+oKCBJghIky0tG2AUkLLigyOIKArogsNDf+ZWe+Wp6qme6e2buve97/+d55rl3qqtOnfp3z0ydOmmK3CgTCQEhIASEgBAQAkJACAgBISAEhIAQ6IHAlD2u67IQEAJCQAgIASEgBISAEBACQkAICIGAgBRIPQhCQAgIASEgBISAEBACQkAICAEhUAkBKZCVYFInISAEhIAQEAJCQAgIASEgBISAEJACqWdACAgBISAEhIAQEAJCQAgIASEgBCohIAWyEkzqJASEgBAQAkJACAgBISAEhIAQEAJSIPUMCAEhIASEgBAQAkJACAgBISAEhEAlBKRAVoJJnYSAEBACQkAICAEhIASEgBAQAkJACqSeASEgBISAEBACQkAICAEhIASEgBCohIAUyEowqZMQEAJCQAgIASEgBISAEBACQkAISIHUMyAEhIAQEAJCQAgIASEgBISAEBAClRCQAlkJJnUSAkJACAgBISAEhIAQEAJCQAgIASmQegaEgBAQAkJACAgBISAEhIAQEAJCoBICUiArwaROQkAICAEhIASEgBAQAkJACAgBISAFUs+AEBACQkAICAEhIASEgBAQAkJACFRCQApkJZjUSQgIASEgBISAEBACQkAICAEhIAQ+JgiEgBAQAkJACAgBISAEhIAQqIZAnufZLbfckt14443Zww8/nP3ud7/L/vd//zebffbZsznnnDNbeeWVs/XXXz/7zGc+05Xhvffem33zm9/M4LfCCitkBx98cKv/oYcemr3wwgvZF77whWz77bfvymdQFx944IHs3HPPzWaYYYbs6KOPzuaaa65Bse7g89JLL2XHHnts9vbbb2dTTDFFtvjii2dHHnlk9rGPdaomL7/8cug7zTTThL/gPJbp3/7t37LbbrstiPjlL3853MOqdNhhh2W//OUvsxlnnDE766yzsllmmaXq0BHtN4U9tPmIzqjJhIAQEAJCQAgIASEgBITAJIjA008/nW299dbZE0880VV6lKI//elP2fTTT5/s9z//8z/ZP/7jP2b//d//nS233HLZtddem80///yh729/+9tsnnnmCf8vuOCC2YsvvpjkMejGr371q9mFF14Y2F566aVDVVy/9a1vZXvssUfbEk488cQMxblIKGS77LJLaL766quzzTbbrNhlzLy/++67szXXXDP76KOPsu222y5D9o9//OOV5Hv//fezaaedttX3zjvvzNZYY41KY0e6U6ea30WC//u//8t+85vftHr87d/+bfY3f/M3XUaM3KWqsvGB5ZRorNLf//3fNxbtv/7rv7KJEyeG8ZyK1aVVVlklm3XWWduGLbDAAuFLjPvM/e6HwJ0PFqd23AeIDwdfntDf/d3fZZ/73OfC/4sttli21lprZcsss8yYecaCYAX6j//4j7CmH//4x9nPfvaztqv8MCy55JIZuG655ZaV8AOXK664ois/sNltt91a/O67777svPPOK4rW6D0/HGPlM91oARokBISAEBACQmBICKA8Yl384x//GGaYeuqpg3Vp6aWXzhZeeOFgicTydPPNNwfFr0x5xHaDZYr9zzbbbBOUtummm64l9QcffJD8f0jLSs4VyzCMeVP8Tz311Gz33XfPZpppprYpRwuPuut+/fXXw/3k8ODMM8/M9t1331ospppqqqBs/vnPfw7jqiqetSYZVGcskFXpV7/6FdbKtpdt+vN/+Zd/yW+66abcbnBVVgPp9+///u/53nvvndtGvUOuyy67LDkHshbXMJbeJ4UuaQTvn//85wED7sMw1wFuTchO33Jzz0jeo6rycn/hAa+xQshS91n653/+59I1cC+5j1UxoR+48JmsO67bHGMJ47FyryWHEBACQkAICAGzKLXtZdh3sQdLkSmR+RFHHJG6FNq4bgaD/PTTT0/2MYNAaz8w77zzJvsMo3GHHXZozXvRRRcNY4oWT3PPbM1lrr6t/82NtWNec6ttXb/88ss7ro+VhuOOOy63Q/7cDAqNReKZ+va3v53/4Ac/GHG9qo7QtSyQtvHsIE5PfvjDH4YXFhcsMf1Y0TomSDRgbTzggAOyc845J1zFMrbhhhtm66yzTvbWW29lhx9+eGJUe9Mdd9wRfKnrEqdPmPjx0f6nf/qncLowCB9xLEpuleslE5a8nXfeOWA+VgkZ7Ysx+ND3S3ZQkO21117hRazArrvumvSR73eequN/8pOfZDvuuGPLclp1HBbK2DXBx2HF/PznP1+bH7hAVZ+bKnLK+lgFJfURAkJACAiB8YYA3lP+u8vacU1cddVVkzDYgXHGq4y4ZgfAZZfHXTvuqXjR/frXvw5xf3YwPubjHFM3yQ4NMl79EM9U2XPVD99Bj+1bgYwF4oOFyZ5N/p577jloWQO/eLONX/A111zTEWBaRYF0V8m6QqI8lvlo1+UV90cR7/ZlQ18UZzuVCIrUSFMd91U7NQkmfIjDhK997WvB9dlOjYKy048LMWs/4YQTsquuumpUPmD77LNP6+Ci7j3ggKUYHE6wej/3c9iHNXXXqP5CQAgIASEgBCZHBH7605+2lvXJT36yVmIUH/jMM89k5rEXFNE//OEPwZCB++sWW2wRkshUJRLPfO9738ueffbZjGQ08FlqqaUy84zKPvWpT7XYPPjgg+E6CXoWWmihVrtZmkL4DS63xWvdZMA196GHHgrz4m7JXCQK+uxnP9ttWM9ruGqSQIc9Nu7BJ598coY7axWqu0b4f/e73w17asKLCJ8iWRF71zfeeCPoMcS4eqIeEgtxePDuu+9m3Heuxe7GLiP3FWy4x5/4xCfC/eR+zD333K1lEBPL3Ljkcm2OOebIHn300RDXiRJN2BgHCyRmwiV6+eWXb4OAuMorr7wy+8UvfhHiYlkD+8DNN9887IlxnXUinpKQqKeeeir7z//8z2y22WbLFl100WBwYx19Ux1zZcqF1QRomZXj/7/+9a/XYV2pLy6rzGGb8PyRRx4pHUOfXi6spYO7XDDQc7sJXXo0u2RfBGFdZTLDFZP2sN1Uy+4l7WVuGvGKccPkvtPfLFm5fdmWAmKxj8F9o9ucva4N4xkrFfiv96CbTO7OjWsr7qrFvriaxlTl8wQvfxX5uVsxf+O5u42BB66vcR/+p42XSAgIASEgBISAEOhEIHaz3HbbbTs79Ggx40ZrX2AKSG6KY9gr8bvMe1MMWhy6ubBed911uSkeHXsM3yPYAXvgY8phbgpF6GdKUZt0pui0xrNfcSpzYX3ttddyyyrbGmMKa24KZOs9+whTzHog0H45dmFFZvaQpjS18LBEQq0BZS6sTdbIXtuxMi+5/KSTTsqnnHLKNjwt90duCn5uSX46cP6Hf/iHNtfSV199NV977bVb/czTrMVv5plnzm+44YbWOlinz/2Nb3wjNyt2C0dTzkM/S6gU+nDvfv/737fGWmbWruFgZoxo9TUFNDcFtjUXz5fPi3zHH398+81o8I7UwZWpyobXBeQvCt+giNgsV6C6KY/Mx9xlyhgPOdfrklnU8kMOOaTusEr9zZIa1lYWf4byFuM60v8jW6/4Vq670oSibScfldZuFuW+FEnuZy/ZKgnSoxNzpGJtuRe08yWWIu6djyNOOCZ/Fov3E7z5rKWIdh9HXGgvKvLu9tnoxUvXhYAQEAJCQAiMVwSWWGKJ1l7Mym3UhuGggw7KLeQptzCY3CxHYbxlcm3xtLINuXlohfYyBfKVV17JLcFMGEP/H/3oRzkKjFnQgiJkSXvy22+/PfAwS1iLN4pMTCgrvj8wC2TrUpkCyR7Y+xOf98477+QYP4j58/a6mBQVSIQwq2qLH8qbU5kC2WSNyO8yowyuttpquVkBc/OUy1dcccXWNUuAmG+88ca5ha4F4xFKuI+LDSRf/OIXQzsK9SWXXJK/9957AZtNN900tMf7e647D7N+5mZ5DYcHHE6gIEKxccWNVh9++GG+0kortcaifJoFMkfJJibUsvfmHjtqCXhyszaHvtz3e+65J2c8zw7rSa2hBXSNf2ppUnUVyEFaNNyyVUWJA5xBK5B8ULkpgyY+/MhbVC58Hl+33/DR+NvrICBWHvmSaULmFtx6qOuuEYVq2BSfWMXyoTRXUWBRJON+ZYcC8Cs7SIjXyGexSr8UlmWfjWFjKP5CQAgIASEgBCZVBMxds7VPOeqoo2ov47nnnsstjKdjnIUItfg+/vjj4XqZArnffvu1+p5xxhkdvNgb+F6jiXKVUiDNBbJlyTRX1Y45HReskqn1dQz4a0NKgUTRccsZ/MABGpYCafUu22RGyfd9k7mT5ua22hLfXFdb184///zQzv3y/uaG3OrLPyiEfs0T/8QKJNfWW2+93ELY2salFEjLL9PitdFGG7X1543lf8mxEkNWHqXVFwtrTCicLhOWzn5oSmM0NMLHmxID/RIxcyRjwc/XtO5+2dUef9dddwX/7lQClNrMogHEUtrJRYh9pOBskYiPG0QSmiLfOu9N2cjshKbrEOIySRBD7Ov3v//9rn3LLlL3h/iCYoxgWf+4nWRC+K4PizxpU4o/qberyIxvetyPNNUpOuaYYyqV0eCzoIQ3KQTVJgSEgBAQAkJg8AjEZc68/FidWYg787g6Yg/ZWxLPFu8NiJHrRk8++WTr8qc//emOruwNquxJOgZ2aTAlCWNT6EEuhyJ5GzF3xP/1Q+ZKmh177LGBBfzMwtkPu55jl1122bZkPXFyzdVXX72tjEZ8zayMgXdcC5TEmrT7i3hGvxepOp48T9z/Oeecs6ecve67GblCPCVEfKRT8X6R9NOfQXiawt5z7rIOQ1UgmXQQ9ekI9IX8b9lihtVOwpZBFi21U6hwo0n2YxbGoDgViWRB/SRXKfJr8h7ZCBbuRi4nX1r9Jk5ad911M4KVmxBJe8jgNQyyU6RkhlSzfIZDjbpEIqE4k5uP54M+KWTeqrte9RcCQkAICAEhMKkjsMgii7SWQBKZuoRySHZ6czcMSgNJ+UjO4jX/qvB7/vnnW91QGkaCSDDjlEoeE7eRrKVfIiEMih106aWXZvGa++VdHE9imTLqds3HxIrhgQceGBROf1EDFANEGVFP1CygZZfb2uvc96r3CwWdrLdNaaBZWFNCYB0i41A/JyJYtbC28KEbDSKzEplEi1Q1oyhfDuaTnqGImPk6ZCFFWSBbU0oB4YGjrMNoEbJVKcficnJvWVsTQunjIYbI5kXGKTAyN4ra7My3O2Sz6udZS01adnBh/vmp7j3byK6VIosfSDWrTQgIASEgBISAEBhlBMj8715WFlcW9j1VM6daMpTM4uvCQbfFpWVWB7KVeX/ixIkhI2sVIrunUz/WoypzeZ/Y+y41Z6wkDaLwPZlEsTx+4QtfCAoYnlkWj1hH5BHrGyuZWE5TxiYsl3EGXBcutmj3ErjOfR+p+zV0BRJQKOGQUpR6AebXUUJJOztahKL4+uuvh9TLp512WlhPt1OFMjktkDbUD/zSl74UakiWKTrbb7990uJVxncQ7chGaROUoqpWMEzvuHFgQa3zpYHZHMsm1ssiUS4ERZIDg7rlPrDqkc65qvzFucve8+WeIsvSlWru2ZZyZWAQPyojQSM1z0isRXMIASEgBISAEBgJBCj5YDFyodQDLp3UKsRDzZLaJKfHRZUSHbPMMksIs3EvqS9/+cttZdsoD1GV2B/53sniHXuGGJXxffPNN8sudbRT+sEp5elFmRCnuIRIB6MaDRtssEGGhQ6vNErAxQpUVTZ11liVZ7FffIDAnnXJJZcsdhnI+xhX7ns34n65Z2PxfvGsee1wMGXv35SG7sKKYJbBqKl8LSVinXXWacyj6UD8mInN46GgTg4umtwMlEfcO7mJVV64LfBlY5mysrPPPjsoOGXKI/xRmPslrIjEJFqylp4yIh+y8QVXR/k64IADgqKH62lVwh2BmEq+AHEBRUYUP+QEU+oKETdbV3n0+ctiC6vKV6df0xjEMoXUMrzVmb5x35Gap7GAGigEhIAQEAJCYIwhgLvhmWee2ZKK3A/sDVFwXn755VC/kANiNu8YCjiUt6oBob8ltmmNc68rGnBNjBWwXkuO91vkYIgJbzcUXEuiEppjF9ei5fDWW2/tNVXrOgYPd7XEmy6Wl/2br5F6h1UtslUmt1IToRu1Dy+++OLkkEGtMcm8QiNK7nzzzRd6kjPElTMfatlqg2GGw4R+aK211mrpDRxaFC3W1AT913/91zAFfZ1oj583r3/J9V6153vJOyIWyH5OAfxmNN2s9wIgdZ0P+k477RQUqqKlESXHFafU2H7bDjvssL5YcJpw//3392XxrSIASh7WR9xNqxLKI66pPLSphDkor5bZLCjpBIc3CVLny4zx/Vi8i+spfiH4daylIiEgBISAEBACQmB8IICHGHtawprYKxLzx2F4Gfn+lxAb8l5gmGDfRAwkroYTJkwI/1sGzTIWbe1f+cpXsu985zvBMnfjjTeGsB8rAZHhIks8JX/Zo0IkTHHeKLeEJhEKZnUks8cee6zSfHRiX4kyt++++4a1ozQRZoVSyl7OFRQSP6ZiJCtPVOiIIoTbMMpXrIDH3Qa1xqYyolhfcMEFwd0W70T2rpaNNZt33nkz4mRR9tjLWsbTsJamhGK+//77Z6ecckqIW1xmmWWC8QbjFGFW5FbhWYCQZZNNNgn3mVA54klJBMohB67TEHJj0OqL6qRwrVvGwwQL6WL7KRvgc/K3KnWbs1cdSArcm3WwlebW18DfslIbVeXq1a8pvi5j1RIQveSoch0cwalqaRNwRc46ZS9i7Ov8b24lVZZQuU/Z3FXKd6QmKav/WOcZT/FNtaVkH8Y8qbnVJgSEgBAQAkJgckSAEg277rprTm3IuEg7v7kUgKewvCl0bUuniLzXcKQf5Sqo0UfpCGoImgWvVVKC/YVlbQ28tt122zY+1Bi0hC0d81IOxIwfoSakk1kaA994L0AtQLMihtqBzGuKSau/KUM5hebN7TYv1lyn7BwyFfcVlIMwa2zt22yKT6hlaVlBWzUQi0yKtcIt5jC3MKi2bnXXaKFOoT7i1FNPnZ966qltvCiXYQargK0ZkdquOTbIbEpt2zWwosSJZZFtw4fnw5TvUGYDMsU9YAvGlNtIkR1ShPtuSZtCTUknSpyY1TnUlYzvAbUkuad33HFHqy97c2pFss64L/JRn5KSMv3SFDAw5pUIy44V0qzUN+6EWbdXNs8ypj4nrqJVrUoE4JbNiRy4iKaWzekQpTVShEtonK431affNjJynXPOOY3YlFn1GjHrMQirrH3wQlzq9ddf36P3Xy6DH5Y8Tk7K3HeLjKzYboYffBNK3d8mfBjjz0xxfJ1nMh47aH5FueL3fBaK1FTuIh+9FwJCQAgIASEw3hFgv0EYkNXYCyUScOWMSz7E+GCtI6wLyyDWs34I106sXlYgPrirLrbYYiEMqEjs2XCVJXYT2Zrs42OepgwFV132cvCqmkm0KNcg3w96jU1lw8LMHguMwNrdW5vyKxvHfpp52It73pCyvli3cTsmaQ+lRRgzCBoRF9ZBCDpsHlaYM7vhhhtKpxl2hkwe/qbKI261uH6OFHnG1d12263SlHygiHlEzqrKI4ypjYnrRBNX1kG7sVZaaJ+diI2sekjS51QaLgSEgBAQAkJACAwAAQ5qURZ49SIUS9wPB0HUTMQltVeFAvZdg4xNJGmQl9kYxDoGwWPQa2wqE27JKPLDJkKoqoZRcVhRpdZkXZlHJIlOXaFGuj/Jcbopj8hD4pdhUtMyGChY/cZN1l2XZwBbbbXVKg01s3roR+xAXaqqpBb59pO4qcir7EPadA7801PE6aBICAgBISAEhIAQEAJCQAiMZQTGvQJ58803Z+edd17Pe9QkhXBPplGHa6+9tk73Vl8CdOtY9RpNUhhE4DZzVsUE6y0urE2sa+ar3UhkgskHRWQgS1GcjS11vawNF4IUnXDCCanmvtr6zbLV1+QaLASEgBAQAkJACAgBITDZITCuFUjS4I5mfcn4aTr//PNrP1woZXXKbtSeoGSAJcQJGaaqEtm/mtbGaWr57Tdlcry2sgK2pPDGVbYulbmv4KpLdluREBACQkAICAEhIASEgBAYqwiMawWSYq7FMh2jcaOoedgkzm/nnXceDXGDrHXmbqJkxQtrUuiUch6DIiynKOspwn247jNESZqytN/UsazLLyWXt6HkioSAEBACQkAICAEhIASEwKAQGLdJdMhI1CvusQxkFD4yIHlBeOoAPfPMM23dCaK1FLyhDZfFeeaZp9SFk2xWTciLhjYZ23SMK4MEUdehMiteFR4U4yVzbl1CERuUey+FeVMxn8jFs0DN0LJYSayKKIZYYekHke03tSYUX7J28beMHzGolp45wxJM5jeREBACQkAICAEhIASEgBAYKQTGrQK5zTbb1ML4u9/9bvb6669nV155ZSNroU+GJYtiouuss0624oorBiXBk9LUEQirHJasSYlQPkk3jfLuRDxlrGzjsrrQQgsNZG2kt24Sd5nCFFdhrIYppQ8r3xxzzBGuoyiTKhlibU899VRQBqHYjRe5yEp79NFHd0yHhdf5xdgU+ZVZMTsYFhq4B4PCpddcui4EhIAQEAJCQAgIASEweSEwbhXIurFmqY1+k0cBZYKXl+xo4p7JvFjlRpNWWGGFStN7LOJee+2V8apKsaJddcyw+5VZDX1elMuUgunXi6mdDzjggKQCGfMbxppQ4EcjdnYYaxFPISAEhIAQEAJCQAgIgZFFYFzHQI4s1OnZsDY1iX8sKwWRnmXwrd1qypCciPhSipU2VXRdyd5ggw26KmWDX1k5R6x2yNVU6XeXZp8BCzKFYMviK8sl+cuVMhfXXuN0XQgIASEgBISAEBACQkAINEVACmRT5DSuAwEUx4022ii4cOLyO8hkMB2TjVIDLra//vWvs7333nsgEqCUPvroo9k3v/nN2vzKyovUZqQBQkAICAEhIASEgBAQAkKgIgLj1oW1Ij4D6YaFifi3OJ7NGZOAp4l77MwzzzwQ2QbF5NBDD81OOumkQbEb03xIzHP22WdnO+20U0hm081tFWvlbrvtllHPsqwkCfz23HPP7LOf/Wx20UUXtdyby0AgdrIbv7JxahcCQkAICAEhIASEgBAQAv0i0EiBZLN77rnn9jv3ZD2eAu777bdfUAp6JbtBgaSIPNY7ykJUyQ5Lps6xQFgdF1100ZCJFEIZWnzxxbNddtklI4nN5Zdf3qhW4lhYWy8ZUAjJqsrLs9NS8/ITn/hEGIqLaa97H88BPxRTXjE/+sCzLj/G5XkeT6H/hYAQEAJCQAgIgQICN910U3bJJZd04DL77LOHMJP11ltvRJLPffTRR2EPcN1112W//e1vs6WWWiq79tprO+Tq1vDuu+9mO+ywQzbNNNOENU011VTdumdvv/12tuOOO2arr756yFVBnoRHHnkkW3jhhbOyutVdGU6iF8H8sssuy0iyuckmmyRXwf3Zcssts+mnnz679NJLk326NV599dVhX3zqqaeOyPPUTZZ+rzVyYT3kkEP6nXfUxpMVc5iEK+Kf/vSn7LbbbsvWX3/9WgoEXxTXX3998kusKHOTzK1FHv2+f+GFF0K2UJRHFKUf/ehH2QcffBDiBMmkyofEiS9gsoaiWE+OhCsqL5RA/7+O8ljEJObnPPvhV+Sv90JACAgBISAEhMBfEMAb7KqrrgoH3yiNvPD0eu6558LB/hJLLBEO+odN2223XXbMMccE5W3rrbduZXWvM+90002Xcbj//e9/P6tSC/qKK64Ia5933nnDNCQ/3GKLLbLvfOc7daad5Ps+++yzAQf+lhGH8vRhr96EKPnH+LfeeqvJ8DE1ppEF0msa9lsgfqSRoH6jl1QY9NwoRt1qAfaaD2WLLymIBDQQJ0hjlbbddtvswQcfDOJxoHDssceGpDnE82F1XXPNNbPHHnssKJdYKA8++ODwZRgT1/jiuvDCC4d2X8YqfpJLCAgBISAEhIAQGFsIoDiRIT0mNvv77LNPdsQRR2QzzjhjrYzydVbHnop9JArG5ptvXmdoR1/qhGPIwAJJ2bhuRB88nDw54yc/+ckQovPpT3+62zBdG+cINLJAghnm10mNXnzxxYGLTIwbrg98UPvJionrY0wokXyoxypRBmWWWWbJsEISBzjFFFNkKJV8+ZJkhtMZruNCUUbghTv0E088kf3ud78LFkqREBACQkAICAEhIATGCgIzzTRTyE+AJ9VBBx2U/fnPfx6KaA888EDgu9JKK/XNnzwJWFBxy+xm7cLCOnHixLB/wwgAUc+ag/3ioX/fQvXB4Pzzz8/mmmuu7NVXX+2Di4YOEoHGCiSKQlWXOrdUNRGcoud1qJtVFEVnkITyiEUTV9V+qKwsBErkGmuskWSNu8VIE1lVd9555zAtyh+K4vzzz5+9/PLL2dxzz53xJUtZChTHugQ/Tt5QxkVCQAgIASEgBISAEBgrCJDfgThIlEfiA4dBv//97wPbKadsvDVvifXxj388HMojL55eZeSGCiyWY5neeeedUPKOGETR2ECg0VPqSlpVC5knWGmyZIJ5m9ACCyzQNoyYwW7ZMuvO4cpjP1ZHn5Naifjdp+jWW29NKur33ntvqvvQ2lAe+fLEn96Vx2mnnTbDcoqvPhbp8847r+/5UcaxRjatjdi3AGIgBISAEBACQkAICIECAu4p5onyuEyiGw7TnYg95CC9SBz6kwwHi1+RiKt77733WqXPUPri98X+Vd+7Uli2V0cZo+Ta8ssv35Yl3uX58MMPk1Nh0bzllluCp1lZXhHGEsZEn9T+9o033ggebD7Hm2++GbzRyKMREzKChbc7NrSlkgTiaQjOZXIlFzTAxl7r7jY1yG5fAAAgAElEQVQVeNx8880BM56rFGFUw2jjxP88UyksvA/7d78XA7Xg2qS1yATK7cPRGmPKBGkeu77sFKTWHHFny4gUeFuWqEo8kK0ooz14uSl8XWXstYb4usU75vAcFFlNwSCbfaCSLE35Tco+SBmSE0eNrBkZud/2AQ5X3n///fDevpxKh/v94D7WoUHcs/g5rTO3+goBISAEhIAQEALjB4Gzzjor7HFOO+205KLNOpibC2U+55xz5rYhb/Vhb2SZSnOub7XVVrlZD3Pz0Gtdt819vuyyy7bt4SxhYm4KTqvPk08+mdzjWYhPUpY6jVZCLvC25C0dw37605+Ga1ZVoe3az3/+89AOJjFZdtfccnOENcZ7YqtJnZvi1upqFtrcjDitPvTff//923hZPGm4bl58ORhaGFR4b5bT/Hvf+16rr+UHSWJDX+R0MsNDbsaYtr68r6o7wMdK0YXx/C0j7j19zD24o0uVdR9//PFh/OOPP94a//zzz+errrpqG15m8c4tt0jHHKuttlpuJQFz5rJY1dYYy03TxtMH/uQnPwn79Ph+bbbZZrkddHTwrtvQyAL52muvmSx/ofvvv7/1f9k//Vgg3VUzPvEpm4f2X/7ylx2XCYjG9D0IwvKITznuDIMiD3B2//ciX7KzpjLfptZaHDuI9yTIKVoe4fv5z38+W3nllVtJfwYxl/MA3yrP1iDnFK9mCJCciliJsRQvkVoJ30NjIXtxSja1CQEhIASEwNhDAAsYHl9rr7122EdizSuWxcAySQkMPMaOOuqo7MADDwwLwTq0wgorhP/hQT/2NZSAWHHFFTNTHMI1POawPHkeCOIPeb/77ruH6/3QV77ylTA8VXKCteBJVvW3Gw8xMrsSDobVC10ASyTusu5ayp7dlJyMZJuEeLFmqhNQmuTiiy/uWAr73w022CD8NpviGHgRKuVxmyRlBAtiNCH68J4X9dUhrJP0I3uqKcWtSghYIffYY4+OOXs1nH766aEcXerlcxZ51F13PJ69CfGqZL/FEgtmhLDxLP34xz8uTpVhhSSM8JRTTglWW/boWCypOR7TNddcE7AlqSXZX+FNgiaeQe6RGYE6eNdqqKtxYk0snlZYzZTSEwITJlxrSsxnsZaVhyMb87l1zoqu95TNZazy12L0KstStSMnJ8wNjt2oeIrA2oZNjl9seWRO+0IIpxq9qKkF0vkyT5X7kuozTAuklWoJJ2e8xjv5Pe7nc94Lw154cxLJd0XZPecz5l4I8allr3n7vc7nBw+DkfQW6FdmjRcCQkAIjDcE3ALJvgYLD69FFlkkNwUr7EEWXHDBHGtOkdw7i+umYLZd3njjjXPLCZGbotXWjvXHSqDlppS2tbtVLmUtLM5b9T1zY82yEh25uVe2hpkyEax9VtOwg1XKAnnllVcGHM4555yO/nEDa4avufW29dt3331zMzi02nytpvS09TvyyCPDPJaYsq3dSpuEdnOH7Zj/zDPPDNdMOWq7ZsaecP9YaxVyC6Qpo7kZbZIvS6IU5ipaIKuuO2WBTMmG5dQOKnLLxtt2GQsk81tca1v7Zz7zmdCOZyBkSmiOVZL+pty39eX+YvG1sjSpqSu3NTKjmYm/TaufMGFCsMphiSgjNGz7YJZdLm2/8847Q03BqnTBBReE+DksWGjlRx99dNWhPftxOtRvwpzUJOCCZZPTq27ESQNJa/Bnhlgb1tWqyYy68U5dc/yQDx9/TqogfPz322+/4L8+bNp1113HVJkPO6BIpvDm2SAFtn2JDO1+DBvrscifxEoU9S1SEW/7cQsxztwDamjGxHePx9RSboeTN/sCzcxlpMh2oO+Z179/+LwU5RroZGImBISAEBACfSNA3WUsNk7Ug+T3Y7nllmvtgVKTmGKVmXtr65IpACGWjXIY1MuOCWsTFrUzzjgjWPHicSne/bQxN1YoLFm33357sKRC1O0mnrBq8hyslTPMMENYTxlh0SIRItZYSrrxcpp11lkzvOywgrF+J2SLab755gtvu2WObRtgb4h5ZJ1YhmOLHfIQk4hlj71ZVSLfB6XnUgQ/LH8xNVl3infchtclWWexHKaoDDeeu9lmmy1Dd8JSiaxUSYiJvY+5VQdrspcPTM3Rq622AskGjQcvJlL/otzYiU1LuSlOjLm7rgLJBgyXgZTZu8jf3xNAS+0aPiRVCqiW8Um141YwLPrSl76U8QWEywNKYop4mNgkf/GLX2xdxtSOmXvQ5Mqju5K68sg8fJHaiU+pnIOUhflxZ9hrr70GybY2rziJkA92dxPuib9w2eAHaNjU9EBm2HINin9VvF0R5HPAl6b/OLoc8HHlkXtDhmB+HHD/4H3d76Q664M38vGjLeWxDnLqKwSEgBAYHQRQfg4//PBak7NBx4UyJlwyzZQT3CBTRH1siL0z4UDDJJREFCvcWP03kuQ5ZpXs+M0skwN3ULPIZtNNN11Zl+BCym/uww8/nFQ0UcZff/31NgWyqFw3yUBrMaQZWVq9SkAsIMpqHWW0dHFdLjRZd4od+g7upb/4xS9CDXWMNSjtRcIFumg4KuLG/gbq9vxx8G5xrV3vaXHu+H3tGEjqw/CAFOsWkokTTbksNrBJhk5SD8OPDV8VIisTVlAUx0Erj1guijesikxV+/ipTq/TADa+sU83Fg4etEER95YvGPiCPfeUe+uEBY4svF5wdlDzduPDScloE5Zef6bMLTFkisU6xsvcK8OpG89IHWt50zVxf4pfuk15jdVxJ554YiW8LXlBWALPKgcpKYUQrFxZpB8xEsQVd/OYGBQunPQN44BnUPKJjxAQAkJACPSHwIwzzpgV83R4TCD7gxRhKYJGoiwF1iqsnFjqkIc9HIebxNkVFY+UrLTx21mWldXHEL8IcaDLvjT1iveT9K06v8+R+su8lhgmOR8ybL/99qlhA2trsu54csq3YEQibvTQQw/NMITxTJXpU1Uwq/L8ccDRz/NXW4H0k/RUQC4PRlm9GSw0dTZsKDLmn1tZeeRmDDPpSh3zd5OnEqsVlpIy/GKeKHEemE074wahRMKDdM4oSinlkfS/uOKNNPGhGk3iyxbrMGQxdh2KCgcLuDabz/5QDxkcg0Efjowmtqm5wdtdP/vFm+eYE95YsaSNeyWrYAp9tQkBISAEhEAdBIougoxdeumlg+sg1qQUWRbO0DwSB+T85uEyi5UOJZL9OMqDZVRNiZZsY59J0p+i8SjujA7AfqgsIWSS8QAawfqhhx7qWspiANOUsuh33SQxwuWUfQlGG1xLTz755DZLbenkJRf8cD31/KE0YiH/1Kc+1deetbYCiayWFCKZFZRrnAKU1ZxJmZdL1p5hWsWciyWiF2F53GijjTLqKQ6Liu4Jw5gHn2sUZ7Ik9SJOj3xTDE79KpFY0mJLDSb/4kkRH1JcEEaacLMYTcJdF8JltY7SgSK0zz77BIsu2IFx8RDlvvvuCxnQ+AvxoaYv4yxgv62/93UsPPNpPJ7DBd5zGMBc8XsfB1/64BLNXPDluatC9MO9mfH8OMKj1+c6ni+WtWw+XGsgLLpV8fZ1Oo4xb7BAZu4D8tK37D5wDeLe0Z9X8T4U5WZOcIzvm/fxe1QcEz8byMT9TsnOOJ4J5Kcf8vA/47sR98kx4T5VGdONn64JASEgBIRAdQSwILEfxnU0jgWEA+6gGAvwrhtm/GMsrcc6Xn311WGPaUlXgktqVdpxxx1DzCSKTZGIa6TWI5Yxsr6SKTVVhxHLWlNy19mUsQQPPrKgXnTRRR3scQNFvmFSv+vmt5+42zj2FqypldmU4EU4HDXai0o/OBEuVzX+tVSGyul2oo6eoYn6hGVkJSZC5iebuO1VpR6g8ycDZy8ii1BqnuK8/b4ni+OwiUyTyFk16yyZHTfccMM2fMGsTsZHslaa8tniYRv2Vp3HeL3mNhv6kIWWv2XZLosY0Y/+3NN+qMn9qypjL7nI7sn8VZ5d5+X1SxlH9s8Y41gu70emTp8nXivjnLi3cR/+95dng/XrvI9rn/qc8Xh4ex/+9sowDI+YJ9nn4vexrMjMc+gZ6lhT/D/jyqgJ3mVj/LskdR/i9fp9QMbUfUDe4ueKMfH64/vma/O2eK1e95VrYBY/G8XPSfwcxf26PYtxxtki7swtEgJCQAgIgXYEPAvrMZbtsw7xm1HMyOnjrbRCqBs500wz5WQKveeee0IVA0sok1vMfm4HgW1TdcvCaspmbvkn6ojW0ddKh+SmiIUMnJZbpOO6N/jvZrEOJBlb+U3ZZZddckv6mN9www05eJlhocXPjA+5hfKENZ5//vm5WcBCX7KwWuxeq4amr5V6hjGZchPmKGZUZS7aTVnMrSRKyJBqh82toWQrJWsp7WYBDX1M2c3nnnvu/I477ihda3yhnzqQVdedysJKDUiyxaLPWPxobqVRWjUtyQYcE1lVLS6yYz1mYQ74UI/UCT6WoyZkFGbPYMmEcjNUBZyo3Vnc03Qw7dHQuL4GmxmUjW5k2nPoE2+sfNOUKn+AAuUbJhSjFJGi1ky9+RprrNHBtzjPIN+nZBlGm6+fD0FVKiqRbGr5AihTenlo2DzHG3qU8LI5+YCDJbK5QlhVOavbv2zNTe5lVRnL5vR2nzv1zKbG+poZFysErnzH5VeKCgJzcH9iBbC4DpcnNbcrP67YMBfz8tnyHwXuu8vFXHGplG7PjCsw8ISfk/Nl7pi8BAzzOV/mi5Xc1Bpc9qIylerrbSkF0g9kwAsM/MsSbGlDLqf4nvnnh/60+7pjeeL+jgfzMU98f1P3ClljTJDBn4Mihj634+dzxPgXcUndJ/o7rv3+aBTn03shIASEwKSOwDAUSDCx0J9w0O+GDv6iDKbKUXRTICkpQnmMfgiFjt8kjBSUeSijMgWSMiD8vqEQ+2+bxX7mlrsjZ7/vxP+W7DGfZpppWv34XTL32VafugokPClF4vNa2FdQtJzM6yY/+uijc7P8tvqgvKO4W6KYsqW2tfejQMKoyrpTCiRKIwq3r40SL8cdd1xQxPtRIJHJXHvbDqm59xwkV8WkG3CNFUjf8HSzQvrE5tJaaiVkw+QvwOOh8FMZlEU2apb1NTygKWXUAa/ylwe4zGLQbTxjRorY3CEnXzLxB7LX/NwHHozUOsDXLVy+uYz7oYyXzfXSSy8FWXyz7RvnolJTJh91k5irav8yPrGym1pjqq3fOV0W512Vn1uYYkXCefEsxc+Tf45YX3Fj7woYfWJyeVJYuSJFn6LC689+ytLo+JZZqFz5TX0W/JmIlR8UnjLc/McphQ9rKhuXWq+3+bpjJc/xKypljPHPgStivgbai8qZ36MYm273uNe9SinpsbLr410mMC8+G2VYOLapMY5HHcW8bB61CwEhIASEQHUELP4wt3j8nL+TOlFXEC9DcxttWRRTazI3zNxiPUuNGakx3dpQeuCHta+MUHKffvrpoEcU6x+WjRl0e5N1WyheWBsHDsMgLJOWrbbr/ao7b+0yHra5C0TGIDJT4mdrGyJvTv4l09NWW22Vmak7o4ZkHG9FMG9MxPtUjXtKTlZotA1hiNHy+nDEJBXn7MVnmLGVxbkJdiaAFrnxnyewtgqRVdI2ocG3ncDoOMarbL3EUJKRksQ5KSK2lGQ9xD3SrwnZiVeocdnvPSWJ0aSSPMYT7oAXcY8PPvhgW5IjYlaJYYsxwRedex9TnfiE4r0xBaejnAjzQql4Xsc3FV/AGI9dsKK/xamS730u7v3EiROzG2+8MfyFfI6y+kZJhhUb44RLzp/nvHgf/DuLdcVlV5ZccsmOoHIyT8dy87/f47XWWquiZP+/WypTbCrDsz8fYEkWOeLBe32O7MAnTMT3AXHkxIU4Dh6TQlmRYdfArA2KBggBISAEJmMEiOFjXzc5EHH1lO3rRZR/IzfAoIhsp734EY9YVrpiUHL04tNk3Wat7bm2XvN2u06ZM16DpMYKJJtdCt/zgdhzzz1DwoZuBKDf+MY3ghJpvswhqQPK4jCIzfM666yTmb93Mq1/3TmrfFDq8uzWnw2tWU2CogtmpPWtSpT54EXGVIJkzf00u+CCC0IQLWmmzXc9JOJYYIEFuhbFRXmkoCuFWc2S1aHcVJXHfM8zgq/7pZHIVFYmI884GKAA9drAx4cj5k5RxrJDSSnt2PBCMVuuJ11BoUspK65Ulh1YuPJXVWHyzzbKzzbbbJNcRUqRomMdvJOM/9roByexQl/sDx79kGc6a8IDRZp6WeaGE5Q9yCzBbazMWphZzEOrzqhZEcPBXeoeMhBFHepWyijO4Nw2md4IASEgBISAEBACQqACAo2ysDpfFB2Ln8qo8Zgq65GaH0XSi3iTZYgNKxvMss1kigdtKLC+iWITaG5mocSCmWCzs88+O5RVqMuzbC42bCNNZKJkM0ldyKrYxjKSsdGCZEPNSJQfsOEv70ndy30oI1ce2eAypimOZB7DEuo1Lsvmq9KOzKNFWKUgrDm9COycsAjzPKZeTTHtNX+v624ZLPbzGla96kumUkIXecXvOcxJrd8/p6mxdfBOjS+2+fdCSo4q98HcYdpYVs1YW5TD36PMc4oK1tTnQnnEYggV5cFSiPwcKEEcSmCZLrMU+xx8H6bWSxvfjSIhIASEgBAQAkJACDRFoC8FkkmxPqLo4DZ5+OGH15IDJcbi74LLJi5lvuFhw4QFgxf/xy/zgQ79SM1rGZ2CeyRKDq6pvaxDtYT7a2c2bmWn/U34VR2DgozbKNYYsG2iRFadK+4XWx7BvbihrcoTPli1Uq6UVXnE/ZDDN9FNxvczxi3QbN57KQ/xs+J1nvqZe1Bj41Iobo2MebuF0ZW34ryOASnJqxAWbqib9a+MD+7mEHgXy22UjUm1uzXP15bqU6WtmAI8djW+++67q7Bo9eH5WXDBBcP3ncWVBrdzvAUuvPDCUj58r+GCy+eR7wMOASwQP9nf3W3dEpnspEYhIASEgBAQAkJACPSBQN8KJHOj6LBZI0aHeMd+iQ0TJ/K8+D9+4QONayaKo7tXNlVyqshZpQ5lFT5N+rBRxRWNtaJE4s46TMJiaOmBQ705lPJ+FPJ11103uMwOEj822f26HDbBDyuwz4s1OqXUoBh4vUBXXIg1GyvEs+RrSClUrnC4AlKU290eeR6LSnSKX2wxTimsRf7xe+KrXVawT1nbkIHaSal74byWWGKJ8O+ECRO6Tdfomh9m4H5ah6iVBRFXjSWQAwfWUkXh4/PIYRtUtIq6DJa1LfyL+27xPnkf/RUCQkAICAEhIASEQF8ImDVvIESWQM/yZxudnPo3wyAvOWAn8Y0yO3m2RgOtle2x7P+yjJTDWFc3nmRo9CyZYFuWMbUbj27XyHZLCQ9wYJ5uGR/NChL68beMyLpLn1S2z7IxVds9y2TZPYvbu8lYdT7vF5fbYA6eI/iT6dQzcjoutLkcXKMfmCI77+OsoM63mGmVecuu+bPAdTJ6wtfX6s93au3Oz5SzwBuZeLbi9mIGUl8/fRnHunw863RZfL3Ok3Eui/eHN/LyGebz2y0baB2847mQySnOBIsszBffB+Ry8ucqvjd+zWWJr8XPoT8LrM/vsY91XPw9fbwNWblPYOFt/vlDTj4/PC/xPfFnrSyDLeOcH3+9fAlzMYY1p56NFhD6RwgIASEgBISAEBACPRBoXMajjK+n+2dDRPF50tkOgp599tlWGY9eSk63+XxT6xu2sr9lG7RuvId9zTeyZk0Km/BBYEuJFMp/+Ca/1xrYfIJZahOKPF6Tcpj4xXULy+5fmYy91tftelGpKc4dH2r4YUqxD+/rKpCsN6bU+l0Z66ZAolzEcrlC6DJ2U+iYn+vFMYxFnpgvOEEoPrFyVMQi9QzF64y/S4pjeR/j7ev2uZ1PNx6p+1BVgYQ/c6XwQDYnlzteV3zgwHV4gG2MFXLH95lrPhd/U6VAfA5wLZMrli2WSf8LASEgBISAEBACQqAqAgNXIJmYjaNvKFF2UCoeeOCBqjK1+mEZo44gVrd4o1WbUTSgigLZayPdz/z9jmXj6BtNx5ZaPHUIRY/NKYojuBatHN14uQIZ1/+kDQsm8vhmuBuPQVwrU2ZiRaOXgtJEDvBHceA54iAD7Njspyx3bp2kH/cMzGlDkXNiHfBKPXN+rahAMtav8Tnjf+dJX/h1UzDoyxqQib7w6NY/xol1+vpZezyOud3i6mPcksY8PBv8Ba+q88V4I6/jXRzv607hyHPAGv0+8H/ZfeiGdeqaWzQdS/rEMrBeXjH5GNaCTP7sIJPfD9p4wQt5Y/7x89PGOHrDWMcE3Ls9p2U81C4EhIAQEAJCQAgIgRQCU9Bom+6hEPFJp59+ekYtQBI/EIdFMo+vfe1rGck6PMaO+iemLAYZrDhpZpumkFTCY59sAxT4EBsVJ7BoInRZHUjboIWEPpQ/6Cf2r4lMTcYQV0amVseWWCrinyjTwf/EsoGrY0r2TMeU+wKm1PSjvlyd9TIvSUBSZJvU7IgjjmiceCfFs1sbzwfJRMoStZjiUGtt3ebSNSEgBISAEBACQkAICAEhIASybKgKZAyw1zwjCQSlO8rKCfgYO5nPKG6+5ZZbDlQhIfGGF9tmLkqRoHiNRqbVQTyAJMqgUD2lAO66666Q/KaMwJTEIijilPhoooyjfBYzcYIhhVub8CuTtW47im0xmQvPz6R6X+uuX/2FgBAQAkJACAgBISAEhMBIIDBiCmTZYuIMjWRT1Ya/DKnq7cWsl1h9R1O5qy65egoBISAEhIAQEAJCQAgMAgEqI7zzzjttrNgPLrrootnyyy+fUTZriimmGMRUpTwOPfTQ7I9//GN25plnZlNPPXVpv6oX7r333uB5dtBBB2Urrrhi1WG1+yEzXpHzzDNPeHUjCy3JnnrqqZD9HI9G9wBMjanDF+/MZ555JvAju/2UUzYvnmGhLdnbb7+dzT333Cmxarc1l6T2VOkBuE/6S8pjGqO6rTGm/C/lsS6C6i8EhIAQEAJCQAgIgUkbgeuvvz677rrrstlnn731InLt6quvzjbaaKNs5ZVXDkrSsAil0eLxQym6QSiPyEkpv6uuuiqzag9DERtPu1133TWbaaaZgrceRpj5558/u+GGG5Lz0c5ee9lllw0K7XzzzZdde+21HX3r8kVJnm222bKll146ePkhD+X8Pvroow7e3RpQavEcXGmllULZxUHRqCuQg1qI+AgBISAEhIAQEAJCQAgIASHw/xGgfjr5Mvx1+eWXZ5YIMbv11luzF198Mdtggw2yt956a+CQkc+EWs7M57WkBz7JEBiSS4S63ldccUUICyPfCFZaFG6vxezTPvTQQ9mmm24arI5PPPFE6L/66qtnW2yxRXb33Xe3SVeH70UXXZQdfPDB2bHHHhv4Uit6ueWWC3h+9atfrbRq7jGWZmqyb7LJJoM/KEhl1lGbEBACQkAICAEhIASEgBAQApMuAjPPPHM+wwwzlC7AlKSQjf/oo48u7dPkguU5yeeaa678W9/6VpPhXceYEhdkNstq135NLj788MO5uYnmjz/+eNtwatvPOOOM+RxzzJGbC2rr2uc+97l8gQUWaCurZ5bGkHXeFL5Wvzp8qZRglseQST0msyTmZjHOTZmtVNnCDgdyS0CamzU0N2tmwMwU0yawJMfIAllJj1cnITD5IUCsLKdqw45/KCKHG4dICAgBISAEhIAQGF0EiIEkrg5r4SAJq5cpYSHb/6REWBTXWWed4DYakynDGfGkVkIse+SRR8Il4gmJx6R92mmnbXWffvrpsz322CN77LHHWkk76/B97rnngpsqFsuYpppqquzAAw+k/GIlV1QqJuy///7B+mjKbxuvQbz52CCYiIcQmFwRIHvwbbfdVml5dgqVrbrqqpX6jtdOuFTg6mH1DrMf/OAH4xUGrVsICAEhIASEwKgjwIEuygoKX5HY/1gN98ysbiG+r5gY5oUXXghxecRXQq+88krIuTHnnHMGhQqFB2UndUht9cuDGy0l/UgO043MIpc9/fTToYTcLLPM0q1ruFaHd5EZShvJhVLkcsKfsn+33357SJqzzDLLdHQHL4gqCewN6/ClsgFxlamY0ViGjklHuEEK5AgDrukmLQRQHrfZZptKQqMUTYoKJArdSJPXeB3peTWfEBACQkAICAEh8BcEqA8OUebNCaWIeu1nn312qw3ljUQsKDdOiy22WLbnnnsGCxxJZ1CWzj333GB9O+mkk0JdcKyQsTXv+eefD+X5qE3utNRSS4V4Q8rMFenUU0/NjjrqqAwlElpvvfWCMpuiurxTPFB6SZyTIk82hEIIoUBDqdroCy+8cLj25JNPhtJ5dfgyrmwvWZQhTDJKJBfWUQJe004aCKyyyirZr371q7aXS37TTTe1tZ944omTxqIKUnICOFLEjw9B5mSFEwkBISAEhIAQEAIjj8Af/vCHzOIew2u11VYLCqATbqcWu5idd955Gf1QgiymLySR+fDDD9uE5fec8ZSIOOuss0JZkDIie6on08H1k3IW999/f4bLJ9lLUQBj+va3vx1KdZDhlKyrlMmAP5ldi1SXd3F8r/esG4MC2VhJkgN54iGSFBXJq0qASzdK8e3WnyyquBxjsBhtkgVytO+A5h/TCPDFVUaclnW7XjZuvLfHJ5jjHQutXwgIASEgBITAMBHATZUyEE5vvvlmZklugmvpzjvvnJ188snBQgZhGbz44ouz3XffPbwgS8QTrI+Us/jZz34WYgSd7rjjjhBjhwWx6OLa6vTXf/bee+8wz8033xzcYiHKiNxyyy0hWyiWSzLDQlgcyUBKffh77rkn/IXYd1HXkljAmOrwbhtY8Y0lo8nIG4Frqcc7ogBDjl3MysvnFWtwFqdL8S328fco22SExbKL1Xa0SQrkaN8BzT/ZIsCXNq6aVZRMd+n0L8kYFPj4aRauJe+9917rfTfwuvHsNuYusVkAAAuFSURBVC6+xny/+c1vwg9HlXqi9OfE0tfBe1wuiHXYeOONW3LHayrKwpc0601hUeyr90JACAgBISAEhEA5AsQhbrvttq0O/JajsFEWAotaTHgHERPJQS9KY0yLLLJIUP5iBRJlCjfYXsojCWeoSbnTTju1lEfnjYKKfGeccUb22muvhRjKRx99NHv11VeDslTcCxTjNevyLkcqfYWamUceeWQoRxKvHUsgxD6nSB988EFowrpaRmV8U/1JrMMeCkX561//eqrLiLfJhXXEIdeEkzsC1A8iY5elzg6+8fj/kzAmlX30vvvuy7beeuvwhcqLcbyHPEsqfCB4UKCW92uvvXaINUgR/ThZdJ7MzzypL7nUeNpQPhlHEDdrYF5OA1Oxi/CF/z777BP6My/zIyPvibEkjpSxLhunnjFxjXUzjvngwfxgKRICQkAICAEhIASaI3D44Ydn/qK+IFbDovIId9xVsajRF2UvfpGBtGhRQ9H0JDrdpOMQGUU2toTG/VFoIWoeQihMUJUcDXV5B8YV6Zprrsm222677JJLLsk222yztlG+N3NLZHzRcSLJUIq68S32BwsrFxJiKVGyxwpJgRwrd0JyTBYIoNRRlBf3EE6KrI5PWBcKFK4KTihdKEjEDvzwhz8MAex8UTKuqKQRe0BfeOC2QD/cSPbaa69g2YsJJcyT/uAjz0mVxyigBKaU2CLwKK4ocIxjLtbAe2Il+FtUXHE5YR1XXnllmI/+LiO8L7vsshArihUzRawXvuAAZvTnL/ODZRWZU3zVJgSEgBAQAkJACFRHgHg+LID8LqdeF1xwQRuzeeaZpxJzrJpQWUwgVkTI+znTlHtoccKmvIt8iu9R8nbYYYdgeUzFHLoC7sl04vEez5lSrnvxjfk8++yzIeMriYqKe6+ivCP+PlkdUo1CQAiUImAf0lCQ1ZSitj6892t2Ute6Zq4MoZ3Csk6maIU2Uxzb+DDOFKfQLeZHv5gnBWYZDx8n78889iXdaud/+/Ir7c+1mJgL3qbItbVb0qDW+mL+piyG9riNgchBeyw3PGmL52QcPIp4mhKZlKNNKL0RAkJACAgBISAEkgiYe2j4Ha1KFg8Z+ltSmp5DzBU2N0tmst/xxx8f+FgW1nDdEs7k5mGUb7rppsn+dvAd+tsherhucY/h/XHHHdfR35LrhGvmbtuIdwfDRIMl7cmtZEhuMZ6Jq39pevHFF4Mchx56aEefE044IVyz8iNt16rw9QHPPPNMbl5p+SmnnNLBv26DWVCDPBdddFHdoaX9qz9VpSx0QQiMLwT4EPIqU3hQfIrkypArh87DivcWu7beu0KIQocSGlOsXHq7zxErlX4tVv68zXnEylzMt6gQMs7lduUS5ZA2ZCySy8PcRTmKSmtxLO9d2Swqsqm+ahMCQkAICAEhIATaEairQKI4Wg6CHIWuSOY5lb/00kut5joKJIM233zz3OIG80ceeaSNtbnN5vCyEh2t9nfffTccQpuFMzcX0bb+5lbbpkDW5V1cV/E9St6ss86aW2hO8VLHe3Phzc2DKjeX1dY1s4jm5pKbL7TQQm396/C13BFBeTznnHM65mzSMAwFUkl0bPcrEgJ1EMDdFBfSIrnrqX3gM14pwuXUvlRal1IFaIvjCCAvS2ATu1X4/GuttVaRRUiR7dQtgY378rNGT9wTM2M+XE3feOON0OwB4sRNFOmuu+4KTfHcqTpPxXG8x8WXYr0iISAEhIAQEAJCYGQQINSFGo6EyJgSl1HSwyxxIaQEF0rKaDRN4kJ4ix2aZ+xRjjnmmGz55ZcPfKnzSKzg+eef31okrrSHHXZYCGehbAY5GEypC3kUJkyY0AFGHd4dg6MGyotstdVW2ZprrplRMoM8DMXSJWDgdRoPOOCA4OZ6yCGHZKeddlqI8+R/XE8pheJUhy+JCIl5BBPiTknggwzwdmIvRWwmROIh9mzIROkTJ+Iw77zzzvCWepwQMaaUoIOYo1uSn9CpGzXRZDVGCIxnBNwdtGiBtM9ZyxpHn9QLi51b+WKX1hSeKQuh90tdc5fRolw+png9xcOtfikrKnxSLqjujotbLVZLrKWpfoz3OelbJKyxtLsLreMpC2QRKb0XAkJACAgBIdAbgboWSOdoGUJzy1vQ8jqybKs5+wLLjNqatK4FkoGM33DDDYPFkd94tzxatvfkYkxxzE2ZDH0tHjLffvvtc1NwOyyQTXinJsTF0/ceZX+t3mXbUFN0g2UVOS1DbHDVtTIjOZZIpzp87fC8pwyx6zDYIeu6667bJlcvPlzvh+TC2g96GjsuEShTID0WsJtbKoC5EsUHvuiaGgOaUvD8euqazx+7jMb8/MvQXVNTPNzVFV4p8tjLWAGEX+qLFoXVXXaLcsdKYRyjCR/w5borplIgU3dCbUJACAgBISAEhosALqvE8b3//vsDnQiXT7OGtbl+lk2AOyt7idhNtKwv7XV4d+NT55olzcktwVB4WdbUOkMn2b5yYbUdq0gI1EGgmCXVxy655JLBHYNspO7ekOIb14V88MEHu/ZNjS9r8/ktviBbf/3127qRWdUp5Zrq19zFlHXgRlp0nfW6ULiSOLlrBK4mYLPKKqsEN5du9S9Zt5crufvuu4NbLG4xuLI44aoCUSNKJASEgBAQAkJACIwsAqlSH4OQYLrppqtUooO5cGelXEhVqsO7Ks9e/aiRyWs8kcp4jKe7rbUOBIFU/COMUZogFMhU6YlYiaPMhfftVZ/xqaeeKpUbxcvJ56c4bZHnxIkTQ7c4ZjLFNC7Ya0HcbV3g6WunoC3EOinhAZ144okhPmHPPfcsVR5djlgJv+WWW8L4FVZYIfyFiDsgtgCqGjf516H6IwSEgBAQAkJACAgBITBEBKRADhFcsR5fCFDk1dw2Qy1HCswS9G1ZvMJfy6aVLbjggi1A3JJHsh2C1lG8UJqwypn/fBtwWAOrkM9Pf+dJ0p599tmnVRsSJa8bYZ0kGB1CyUV2FF/kgyeEpdCtmPw1F9PQzprXXnvtMIa1xApz6FBCFCqGdtxxxzAPPLyWJu0E0sNPJASEgBAQAkJACAgBITAGEJhknW8luBAYJQTsYxti/oghLBJJcopJYLx/MTENPv0eT+l9+EsbFMdKFucpu8b8HjsY8yQesRib6TyKyXyIyyQW0mMqYz6sIRW3mVoH44r1HcuS6xQxo18xtrKIgd4LASEgBISAEBACQkAIjDwCUzClbfREQkAIVETAY/Nw40zFE+Lqifsn1j8I3/3FF1+8I57Qp8MNFIsksX64a3rsoLfTz+MFi2NS12hDhltvvTV78803swUWWCCjXEhR1m78fR6siO52SmxjKq4RKyturFgucV9lzCuvvBLSdOPySnrp2267LbB0fshUjBPFrZV+8TzeH6tk7F7r8umvEBACQkAICAEhIASEwMgiIAVyZPHWbEJgskIAJRlX12ICHBaJEjv11FOH9eqcarK67VqMEBACQkAICAEhMI4RUAzkOL75WroQ6BcBq3kUWDzzzDMdrEgmBJGdVSQEhIAQEAJCQAgIASEweSAgC+TkcR+1CiEwaggsvfTSoXwJlsjNN988yEEmWG/DjVXup6N2ezSxEBACQkAICAEhIAQGioAUyIHCKWZCYPwhQCzlhAkTsgsvvDAojRBxj8SI7rrrrqWxn+MPKa1YCAgBISAEhIAQEAKTPgJSICf9e6gVCIExgwDKZDFZz5gRToIIASEgBISAEBACQkAI9I2AFMi+IRQDISAEhIAQEAJCQAgIASEgBITA+EBASXTGx33WKoWAEBACQkAICAEhIASEgBAQAn0jIAWybwjFQAgIASEgBISAEBACQkAICAEhMD4QkAI5Pu6zVikEhIAQEAJCQAgIASEgBISAEOgbASmQfUMoBkJACAgBISAEhIAQEAJCQAgIgfGBwP8DXC/rxPhlo4gAAAAASUVORK5CYII=)"
      ]
    },
    {
      "cell_type": "markdown",
      "metadata": {
        "id": "8EqprHWcSiD3"
      },
      "source": [
        "# Projeto 1\n",
        "*Resolvendo o Termo com o auxílio da SVD*"
      ]
    },
    {
      "cell_type": "markdown",
      "metadata": {
        "id": "oy25LxJsKIZ9"
      },
      "source": [
        "### **Nome:** _(Henrique de Sousa Alencar Coelho)_"
      ]
    },
    {
      "cell_type": "markdown",
      "metadata": {
        "id": "_jSXjUyJSiD4"
      },
      "source": []
    },
    {
      "cell_type": "markdown",
      "metadata": {
        "id": "FFAnPQFeSiD4"
      },
      "source": [
        "Um jogo online bastante acessado ultimamente é o [Termo](https://term.ooo/).\n",
        "Desenvolvido pelo engenheiro de software Josh Wardle, o jogo é uma espécie de presente de Wardle para sua esposa, também apaixonada por este tipo de coisa. Na sua versão em inglês, ele é conhecido como *Wordle*.\n",
        "Ele é um jogo de adivinhação, onde a ideia é dar palpites até descobrir uma palavra secreta.\n",
        "Dois grandes diferenciais do jogo são: ele é gratuito e livre de qualquer tipo de propaganda e (ii) uma palavra secreta nova surge a cada dia, o que gera bastante expectativa entre seus usuários."
      ]
    },
    {
      "cell_type": "markdown",
      "metadata": {
        "id": "ypbA6ms6SiD5"
      },
      "source": [
        "O Termo é um jogo individual.\n",
        "Você pode jogar com uma, duas ou quatro palavras secretas simultâneas.\n",
        "Cada palavra secreta possui sempre 5 letras.\n",
        "Embora o jogo não dê pistas, você pode demorar o tempo que quiser em cada partida."
      ]
    },
    {
      "cell_type": "markdown",
      "metadata": {
        "id": "hzgDgeoGSiD5"
      },
      "source": [
        "O jogador deve descobrir uma palavra secreta em até 6 tentativas.\n",
        "Por simplicidade, os acentos são preenchidos automaticamente, e por isso não são considerados nos palpites.\n",
        "As palavras podem possuir letras repetidas.\n",
        "O histórico das tentativas efetuadas fica sempre visível para o usuário, o que o ajuda a conferir quais letras ele acertou ou deixou de acertar.\n",
        "As letras são exibidas em caixas.\n",
        "Após digitar um palpite e teclar `Enter`,\n",
        "as caixas são coloridas em verde, amarelo ou preto, segundo o seguinte critério.\n",
        "Uma caixa é pintada de verde sempre que uma letra do palpite coincidir com uma letra da palavra secreta.\n",
        "Quando uma letra do palpite existir na palavra secreta, mas estiver em uma posição diferente da esperada, a caixa é colorida de amarelo.\n",
        "Uma caixa é mantida preta quando sua letra correspondente não pertencer à palavra secreta."
      ]
    },
    {
      "cell_type": "markdown",
      "metadata": {
        "id": "aSpLywQpSiD6"
      },
      "source": [
        "Neste contexto, a álgebra linear se encaixará como uma luva.\n",
        "Imagine o conjunto $P$ dos possíveis palpites como um espaço vetorial.\n",
        "A ideia é identificar um vetor $p$ que melhor represente $P$.\n",
        "Como fazer isso? Iremos aplicar o [*teorema da aproximação de posto baixo*](https://pt.wikipedia.org/wiki/Aproxima%C3%A7%C3%A3o_de_posto_baixo) que estudamos em sala."
      ]
    },
    {
      "cell_type": "code",
      "execution_count": 2,
      "metadata": {
        "id": "KekG7wYFFOFf"
      },
      "outputs": [],
      "source": []
    },
    {
      "cell_type": "markdown",
      "metadata": {
        "id": "E_NZfF1nSiD6"
      },
      "source": [
        "## Metodologia"
      ]
    },
    {
      "cell_type": "markdown",
      "metadata": {
        "id": "wRvxC4zxSiD6"
      },
      "source": [
        "(a) Primeiramente, você deve ler o artigo [*Rank One Approximation as a Strategy for Wordle*](https://arxiv.org/abs/2204.06324), de Michael Bonthron. Ele descreve uma metodologia para resolver o Termo usando decomposição em valores singulares. Você deve descrever abaixo a metodologia proposta, desde o esquema de representação das palavras até o algoritmo proposto pelo autor. Utilize uma célula de texto para cada parágrafo."
      ]
    },
    {
      "cell_type": "markdown",
      "metadata": {
        "id": "3RGsXmzoSiD7"
      },
      "source": [
        "*Descreva a metodolgia a partir daqui*"
      ]
    },
    {
      "cell_type": "markdown",
      "metadata": {
        "id": "2DGM-n2BMrXL"
      },
      "source": [
        "Começamos usando uma lista das palavras da língua portuguesa que tem 5 letras, salvamos em uma lista e montamos um vetor com base em cada palavra, o vetor vai ter 130 elementos com base nas 26 letras do alfabeto e das 5 letras de cada palavra, as 26 primeiras posições ficará reservada para a primeira letra e as proximas 26 posições para a segunda letra e assim por diante, e depois montamos uma matriz com o vetor de todas as palavras procuramos os palpites com base na decomposição SVD e repetimos o procedimento eliminando as palavras que não são com base na resposta do jogo até que a palavra seja acertada."
      ]
    },
    {
      "cell_type": "markdown",
      "metadata": {
        "id": "lLfZW6hESiD7"
      },
      "source": [
        "## Construção do espaço dos palpites"
      ]
    },
    {
      "cell_type": "markdown",
      "metadata": {
        "id": "Fu1Od9EnSiD7"
      },
      "source": [
        "(b) Para construir o espaço inicial de palpites, utilize o arquivo: http://natura.di.uminho.pt/download/sources/Dictionaries/libreoffice/oo3x-pt_PT.oxt"
      ]
    },
    {
      "cell_type": "code",
      "execution_count": null,
      "metadata": {
        "id": "S5O7D1PqIF-e"
      },
      "outputs": [],
      "source": [
        "# Lista das palavras\n",
        "with open(\"palavrasde5letras.txt\", \"r\") as arquivo:\n",
        "  palavrasde5letras = arquivo.readlines()"
      ]
    },
    {
      "cell_type": "code",
      "execution_count": 3,
      "metadata": {
        "id": "SyBW7QpdSiD8"
      },
      "outputs": [],
      "source": [
        "# Digite seu código aqui\n",
        "import numpy as np\n",
        "\n",
        "# Tranforma uma string em um vetor\n",
        "def criar_vetor(palavra):\n",
        "  x = np.zeros(130)\n",
        "  i = 0\n",
        "  for p in palavra:\n",
        "    letra = ord(p)\n",
        "    if (letra == 10 or len(palavra) == 11):\n",
        "      break\n",
        "    x[letra-97 + 26*i] = 1\n",
        "    i = i + 1\n",
        "  return x"
      ]
    },
    {
      "cell_type": "code",
      "execution_count": 47,
      "metadata": {
        "id": "t2H4nykuDmIR"
      },
      "outputs": [],
      "source": [
        "# Montando a Matriz com todos os vetores de acordo com as palavras da lista\n",
        "A = np.zeros((130,np.shape(palavrasde5letras)[0]))\n",
        "\n",
        "i = 0\n",
        "for p in palavrasde5letras:\n",
        "  if len(p) != 6:\n",
        "    continue\n",
        "  x = criar_vetor(p)\n",
        "  A[:,i] = x\n",
        "  i = i + 1"
      ]
    },
    {
      "cell_type": "code",
      "execution_count": 49,
      "metadata": {},
      "outputs": [],
      "source": [
        "# Montando a Matriz com todos os vetores de acordo com as palavras da lista\n",
        "A = np.zeros((130,np.shape(palavrasde5letras)[0]))\n",
        "\n",
        "i = 0\n",
        "for p in palavrasde5letras:\n",
        "  if len(p) != 6:\n",
        "    continue\n",
        "  x = criar_vetor(p)\n",
        "  A[:,i] = x\n",
        "  i = i + 1"
      ]
    },
    {
      "cell_type": "code",
      "execution_count": 50,
      "metadata": {
        "colab": {
          "base_uri": "https://localhost:8080/"
        },
        "id": "U4n0r1YSWU6K",
        "outputId": "f55e038e-d362-4808-9854-a32699e738e1"
      },
      "outputs": [
        {
          "data": {
            "text/plain": [
              "array([[1., 1., 1., ..., 0., 0., 0.],\n",
              "       [0., 0., 0., ..., 0., 0., 0.],\n",
              "       [0., 0., 0., ..., 0., 0., 0.],\n",
              "       ...,\n",
              "       [0., 0., 0., ..., 0., 0., 0.],\n",
              "       [0., 0., 0., ..., 0., 0., 0.],\n",
              "       [0., 0., 0., ..., 0., 0., 0.]], shape=(130, 5481))"
            ]
          },
          "execution_count": 50,
          "metadata": {},
          "output_type": "execute_result"
        }
      ],
      "source": [
        "A"
      ]
    },
    {
      "cell_type": "markdown",
      "metadata": {
        "id": "aCJRcRDPSiD8"
      },
      "source": [
        "## Uma primeira aproximação"
      ]
    },
    {
      "cell_type": "markdown",
      "metadata": {
        "id": "LQ_UvhxYSiD8"
      },
      "source": [
        "(c) Empregando a métrica de similaridade descrita no artigo, qual palavra melhor aproxima o espaço de palpites inicial?"
      ]
    },
    {
      "cell_type": "code",
      "execution_count": 53,
      "metadata": {
        "id": "eMaPfKDgSiD9"
      },
      "outputs": [],
      "source": [
        "# Digite seu código aqui\n",
        "\n",
        "# Decomposição SVD\n",
        "B = A.copy()\n",
        "\n",
        "U,s,V = np.linalg.svd(B)\n",
        "S = np.diag(s)\n",
        "u1 = U[:,0]\n",
        "\n",
        "# Tranforma um vetor em uma string\n",
        "def retorna_palavra(vetor):\n",
        "  x = \"\"\n",
        "  i = 0\n",
        "  indice = 0\n",
        "  for p in vetor:\n",
        "    if p == 1:\n",
        "      x = x + chr((indice - 26*i) + 97)\n",
        "      i = i + 1\n",
        "    indice = indice + 1\n",
        "  return x"
      ]
    },
    {
      "cell_type": "code",
      "execution_count": 54,
      "metadata": {
        "id": "SEEEj6ShDmIV"
      },
      "outputs": [
        {
          "data": {
            "text/plain": [
              "['caras', 'paras', 'saras', 'raras', 'coras']"
            ]
          },
          "execution_count": 54,
          "metadata": {},
          "output_type": "execute_result"
        }
      ],
      "source": [
        "# Retorna uma lista com os vetores ordenados de acordo com a aproximação da primeira coluna do U\n",
        "def sugestoes(palpite, M):\n",
        "  x = []\n",
        "  for i in range(np.shape(M)[1]):\n",
        "    p = M[:,i]\n",
        "    theta = np.arccos((np.inner(palpite,p))/((np.linalg.norm(palpite))*(np.linalg.norm(p))))\n",
        "    x.append([theta,p])\n",
        "  x.sort(key = lambda x: x[0])\n",
        "  return x\n",
        "sugest = sugestoes(u1, A)\n",
        "\n",
        "\n",
        "# Os 5 primeiros palpites\n",
        "palpites = []\n",
        "cont = 0\n",
        "for i in sugest:\n",
        "  if cont >= 5:\n",
        "    break\n",
        "  r = retorna_palavra(i[1])\n",
        "  palpites.append(r)\n",
        "  cont = cont + 1\n",
        "palpites"
      ]
    },
    {
      "cell_type": "markdown",
      "metadata": {
        "id": "YMV0Gs__SiD9"
      },
      "source": [
        "## Vencendo o jogo"
      ]
    },
    {
      "cell_type": "markdown",
      "metadata": {
        "id": "pMzC-zjXSiD9"
      },
      "source": [
        "(d) Agora, você deve implementar uma função que forneça palpites para um jogador de Termo baseada **apenas** na metodologia descrita no artigo em estudo. Teste sua função jogando a versão original do jogo em: https://term.ooo/"
      ]
    },
    {
      "cell_type": "code",
      "execution_count": 55,
      "metadata": {
        "id": "GHQVjVBLSiD9"
      },
      "outputs": [],
      "source": [
        "# Digite seu código aqui\n",
        "def palpites(palavra = \"\", cores = \"\", M = A):\n",
        "    # Primeira Aproximação\n",
        "  if palavra == \"\":\n",
        "    B = M.copy()\n",
        "    U,s,V = np.linalg.svd(B)\n",
        "    S = np.diag(s)\n",
        "    u1 = U[:,0]\n",
        "    sugest = sugestoes(u1, B)\n",
        "    palpites = []\n",
        "    cont = 0\n",
        "    for i in sugest:\n",
        "      if cont >= 5:\n",
        "        break\n",
        "      r = retorna_palavra(i[1])\n",
        "      palpites.append(r)\n",
        "      cont = cont + 1\n",
        "    return B, palpites\n",
        "    # Próximas aproximações\n",
        "  else:\n",
        "    vetor = criar_vetor(palavra)\n",
        "    B = M.copy()\n",
        "    colunas = np.shape(B)[1]\n",
        "    letusa = \"\"\n",
        "    # Limpando a matriz com base no v\n",
        "    for j in range(5):\n",
        "      cont = 0\n",
        "      if cores[j] == \"v\":\n",
        "        while cont < colunas:\n",
        "          v = B[:, cont]\n",
        "          p = retorna_palavra(v)\n",
        "          if palavra[j] != p[j]:\n",
        "            B = np.delete(B, [cont], axis=1)\n",
        "          else:\n",
        "            cont = cont + 1\n",
        "          colunas = np.shape(B)[1]\n",
        "        letusa = letusa + palavra[j]\n",
        "\n",
        "    # Limpando a matriz com base no a\n",
        "    for j in range(5):\n",
        "      cont = 0\n",
        "      if palavra[j] in letusa:\n",
        "        continue\n",
        "      if cores[j] == \"a\":\n",
        "        while cont < colunas:\n",
        "          v = B[:, cont]\n",
        "          p = retorna_palavra(v)\n",
        "          if palavra[j] not in p:\n",
        "            B = np.delete(B, [cont], axis=1)\n",
        "          else:\n",
        "            cont = cont + 1\n",
        "          colunas = np.shape(B)[1]\n",
        "        cont = 0\n",
        "        while cont < colunas:\n",
        "          v = B[:, cont]\n",
        "          p = retorna_palavra(v)\n",
        "          if palavra[j] == p[j]:\n",
        "            B = np.delete(B, [cont], axis=1)\n",
        "          else:\n",
        "            cont = cont + 1\n",
        "          colunas = np.shape(B)[1]\n",
        "        letusa = letusa + palavra[j]\n",
        "\n",
        "    # Limpando a matriz com base no c\n",
        "    for j in range(5):\n",
        "      cont = 0\n",
        "      if palavra[j] in letusa:\n",
        "        continue\n",
        "      if cores[j] == \"c\":\n",
        "        while cont < colunas:\n",
        "          v = B[:, cont]\n",
        "          p = retorna_palavra(v)\n",
        "          if palavra[j] in p:\n",
        "            B = np.delete(B, [cont], axis=1)\n",
        "          else:\n",
        "            cont = cont + 1\n",
        "          colunas = np.shape(B)[1]\n",
        "        letusa = letusa + palavra[j]\n",
        "\n",
        "    # Decomposição SVD\n",
        "    U,s,V = np.linalg.svd(B)\n",
        "    S = np.diag(s)\n",
        "    u1r = U[:,0]\n",
        "\n",
        "    # Sugestões\n",
        "    sugest = sugestoes(u1r, B)\n",
        "    palpites = []\n",
        "    cont = 0\n",
        "    for i in sugest:\n",
        "      if cont >= 5:\n",
        "        break\n",
        "      r = retorna_palavra(i[1])\n",
        "      palpites.append(r)\n",
        "      cont = cont + 1\n",
        "\n",
        "    return B, palpites\n"
      ]
    },
    {
      "cell_type": "code",
      "execution_count": 56,
      "metadata": {
        "id": "Bo9X1GkDwP6x",
        "scrolled": true
      },
      "outputs": [
        {
          "name": "stdout",
          "output_type": "stream",
          "text": [
            "Primeiros Palpites: \n",
            "['caras', 'paras', 'saras', 'raras', 'coras']\n",
            "Digite 'c' se a posição da letra for cinza\n",
            "Digite 'a' se a posição da letra for amarelo\n",
            "Digite 'v' se a posição da letra for verde\n",
            "\n",
            "letra: a\n",
            "letra: u\n",
            "letra: d\n",
            "letra: i\n",
            "letra: o\n",
            "['jejuo', 'recuo', 'unemo', 'usemo', 'utero']\n",
            "Digite 'c' se a posição da letra for cinza\n",
            "Digite 'a' se a posição da letra for amarelo\n",
            "Digite 'v' se a posição da letra for verde\n",
            "\n",
            "letra: j\n",
            "letra: e\n",
            "letra: j\n",
            "letra: u\n",
            "letra: o\n",
            "['ovulo', 'ululo', 'fluxo', 'ocupo', 'plugo']\n",
            "Digite 'c' se a posição da letra for cinza\n",
            "Digite 'a' se a posição da letra for amarelo\n",
            "Digite 'v' se a posição da letra for verde\n",
            "\n",
            "letra: o\n",
            "letra: v\n",
            "letra: u\n",
            "letra: l\n",
            "letra: o\n",
            "['fluxo', 'plugo', 'louco', 'louro']\n",
            "Digite 'c' se a posição da letra for cinza\n",
            "Digite 'a' se a posição da letra for amarelo\n",
            "Digite 'v' se a posição da letra for verde\n",
            "\n",
            "letra: f\n",
            "letra: l\n",
            "letra: u\n",
            "letra: x\n",
            "letra: o\n",
            "['louco', 'louro']\n",
            "Digite 'c' se a posição da letra for cinza\n",
            "Digite 'a' se a posição da letra for amarelo\n",
            "Digite 'v' se a posição da letra for verde\n",
            "\n",
            "letra: l\n",
            "letra: o\n",
            "letra: u\n",
            "letra: c\n",
            "letra: o\n",
            "['louco']\n"
          ]
        },
        {
          "name": "stderr",
          "output_type": "stream",
          "text": [
            "/tmp/ipykernel_23805/1774416818.py:6: RuntimeWarning: invalid value encountered in arccos\n",
            "  theta = np.arccos((np.inner(palpite,p))/((np.linalg.norm(palpite))*(np.linalg.norm(p))))\n"
          ]
        }
      ],
      "source": [
        "print(\"Primeiros Palpites: \")\n",
        "V = palpites()\n",
        "print(V[1])\n",
        "while True:\n",
        "    palavra = input(\"Digite a palavra:\")\n",
        "    if len(palavra) != 5:\n",
        "        print(f'Opção {palavra} inválida')\n",
        "        continue\n",
        "    print(\"Digite 'c' se a posição da letra for cinza\")\n",
        "    print(\"Digite 'a' se a posição da letra for amarelo\")\n",
        "    print(\"Digite 'v' se a posição da letra for verde\")\n",
        "    print()\n",
        "    cor = \"\"\n",
        "    i = 0\n",
        "    while i < 5:\n",
        "        print(f'letra: {palavra[i]}')\n",
        "        c = input(\"Cor:\")\n",
        "        if c != \"v\" and c != \"a\" and c != \"c\":\n",
        "            print(f'Opção {c} inválida')\n",
        "            continue\n",
        "        cor = cor + c\n",
        "        i = i + 1\n",
        "    V = palpites(palavra, cor, V[0])\n",
        "    print(V[1])\n",
        "    if cor == \"vvvvv\":\n",
        "        break"
      ]
    },
    {
      "cell_type": "code",
      "execution_count": 57,
      "metadata": {
        "id": "Q13CMIlf-px4"
      },
      "outputs": [
        {
          "data": {
            "text/plain": [
              "(130, 1)"
            ]
          },
          "execution_count": 57,
          "metadata": {},
          "output_type": "execute_result"
        }
      ],
      "source": [
        "n = np.shape(V[0])\n",
        "\n",
        "n"
      ]
    },
    {
      "cell_type": "code",
      "execution_count": 58,
      "metadata": {
        "id": "lYbm6nPyoMLT"
      },
      "outputs": [
        {
          "name": "stdout",
          "output_type": "stream",
          "text": [
            "louco\n"
          ]
        }
      ],
      "source": [
        "for i in range(n[1]):\n",
        "  r = retorna_palavra(V[0][:,i])\n",
        "  print(r)"
      ]
    },
    {
      "cell_type": "markdown",
      "metadata": {
        "id": "Ahv995cuSiD9"
      },
      "source": [
        "## Considerações finais"
      ]
    },
    {
      "cell_type": "markdown",
      "metadata": {
        "id": "NQDI6YbNSiD9"
      },
      "source": [
        "(e) Elabore algumas considerações sobre sua experiência com o algoritmo implementado. Quais foram os pontos fortes e fracos? O que você faria para melhorá-lo? etc."
      ]
    },
    {
      "cell_type": "markdown",
      "metadata": {
        "id": "dz6NOZJaSiD-"
      },
      "source": [
        "*Teça seus comentários aqui*"
      ]
    },
    {
      "cell_type": "markdown",
      "metadata": {
        "id": "-ANT-cnhDmIf"
      },
      "source": [
        "Pude perceber que o algoritmo é muito eficiente quando em cada palavra inserida ele eliminava muitas palavras da matriz e em poucas jogadas mais de 5000 palavras eram removidas, os principal ponto forte é a eficiência e o fraco é a lendidão nas primeiras jogadas e o layout de interação com o usuário, eu melhoraria o layout e enxugaria mais o código criando um função e mudando a condicional pra um booleano, os if's diferem em pouca coisa"
      ]
    },
    {
      "cell_type": "markdown",
      "metadata": {
        "id": "7a3F_BmqSiD-"
      },
      "source": [
        "## Saiba mais"
      ]
    },
    {
      "cell_type": "markdown",
      "metadata": {
        "id": "G-PaiC_gSiD-"
      },
      "source": [
        "* No canal do YouTube 3Blue1Brown, é apresentada uma maneira mais sofisticada para resolver o Termo. Assista: https://www.youtube.com/watch?v=v68zYyaEmEA"
      ]
    },
    {
      "cell_type": "markdown",
      "metadata": {
        "id": "YFQVb_sQSiD-"
      },
      "source": [
        "* Um vídeo que acho interessante sobre o teorema da aproximação de posto baixo é apresentado aqui: https://www.youtube.com/watch?v=12K5aydB9cQ"
      ]
    },
    {
      "cell_type": "markdown",
      "metadata": {
        "id": "O32hKHPWSiD-"
      },
      "source": [
        "*Última atualização: 23 de setembro de 2022*"
      ]
    }
  ],
  "metadata": {
    "celltoolbar": "Slideshow",
    "colab": {
      "provenance": []
    },
    "kernelspec": {
      "display_name": ".venv",
      "language": "python",
      "name": "python3"
    },
    "language_info": {
      "codemirror_mode": {
        "name": "ipython",
        "version": 3
      },
      "file_extension": ".py",
      "mimetype": "text/x-python",
      "name": "python",
      "nbconvert_exporter": "python",
      "pygments_lexer": "ipython3",
      "version": "3.12.3"
    }
  },
  "nbformat": 4,
  "nbformat_minor": 0
}
